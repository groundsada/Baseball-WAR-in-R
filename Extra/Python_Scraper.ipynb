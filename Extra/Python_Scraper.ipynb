{
  "nbformat": 4,
  "nbformat_minor": 0,
  "metadata": {
    "colab": {
      "provenance": []
    },
    "kernelspec": {
      "name": "python3",
      "display_name": "Python 3"
    },
    "language_info": {
      "name": "python"
    }
  },
  "cells": [
    {
      "cell_type": "code",
      "execution_count": null,
      "metadata": {
        "colab": {
          "base_uri": "https://localhost:8080/"
        },
        "id": "A-Iy6c49D12D",
        "outputId": "defc3746-4ad6-4ed9-8d15-eb1ad18e2c8c"
      },
      "outputs": [
        {
          "output_type": "stream",
          "name": "stdout",
          "text": [
            "Requirement already satisfied: google-colab-selenium in /usr/local/lib/python3.10/dist-packages (1.0.12)\n",
            "Requirement already satisfied: selenium in /usr/local/lib/python3.10/dist-packages (from google-colab-selenium) (4.18.1)\n",
            "Requirement already satisfied: urllib3[socks]<3,>=1.26 in /usr/local/lib/python3.10/dist-packages (from selenium->google-colab-selenium) (2.0.7)\n",
            "Requirement already satisfied: trio~=0.17 in /usr/local/lib/python3.10/dist-packages (from selenium->google-colab-selenium) (0.25.0)\n",
            "Requirement already satisfied: trio-websocket~=0.9 in /usr/local/lib/python3.10/dist-packages (from selenium->google-colab-selenium) (0.11.1)\n",
            "Requirement already satisfied: certifi>=2021.10.8 in /usr/local/lib/python3.10/dist-packages (from selenium->google-colab-selenium) (2024.2.2)\n",
            "Requirement already satisfied: typing_extensions>=4.9.0 in /usr/local/lib/python3.10/dist-packages (from selenium->google-colab-selenium) (4.10.0)\n",
            "Requirement already satisfied: attrs>=23.2.0 in /usr/local/lib/python3.10/dist-packages (from trio~=0.17->selenium->google-colab-selenium) (23.2.0)\n",
            "Requirement already satisfied: sortedcontainers in /usr/local/lib/python3.10/dist-packages (from trio~=0.17->selenium->google-colab-selenium) (2.4.0)\n",
            "Requirement already satisfied: idna in /usr/local/lib/python3.10/dist-packages (from trio~=0.17->selenium->google-colab-selenium) (3.6)\n",
            "Requirement already satisfied: outcome in /usr/local/lib/python3.10/dist-packages (from trio~=0.17->selenium->google-colab-selenium) (1.3.0.post0)\n",
            "Requirement already satisfied: sniffio>=1.3.0 in /usr/local/lib/python3.10/dist-packages (from trio~=0.17->selenium->google-colab-selenium) (1.3.1)\n",
            "Requirement already satisfied: exceptiongroup in /usr/local/lib/python3.10/dist-packages (from trio~=0.17->selenium->google-colab-selenium) (1.2.0)\n",
            "Requirement already satisfied: wsproto>=0.14 in /usr/local/lib/python3.10/dist-packages (from trio-websocket~=0.9->selenium->google-colab-selenium) (1.2.0)\n",
            "Requirement already satisfied: pysocks!=1.5.7,<2.0,>=1.5.6 in /usr/local/lib/python3.10/dist-packages (from urllib3[socks]<3,>=1.26->selenium->google-colab-selenium) (1.7.1)\n",
            "Requirement already satisfied: h11<1,>=0.9.0 in /usr/local/lib/python3.10/dist-packages (from wsproto>=0.14->trio-websocket~=0.9->selenium->google-colab-selenium) (0.14.0)\n"
          ]
        }
      ],
      "source": [
        "%pip install google-colab-selenium"
      ]
    },
    {
      "cell_type": "code",
      "source": [
        "import google_colab_selenium as gs\n",
        "\n",
        "driver = gs.Chrome()\n"
      ],
      "metadata": {
        "colab": {
          "base_uri": "https://localhost:8080/",
          "height": 80
        },
        "id": "4stUAty0EAef",
        "outputId": "447693af-4154-49f8-cf8d-4ee54c772fd3"
      },
      "execution_count": null,
      "outputs": [
        {
          "output_type": "display_data",
          "data": {
            "text/plain": [
              "<IPython.core.display.HTML object>"
            ],
            "text/html": [
              "\n",
              "            <div class=\"spinner-container\">\n",
              "                <div class=\"spinner\" id=\"c23afc46-efc5-4961-8a20-7be6b18f3591-circle\"></div>\n",
              "                <div class=\"spinner-text\" id=\"c23afc46-efc5-4961-8a20-7be6b18f3591-text\">Updating and upgrading APT</div>\n",
              "            </div>\n",
              "            <style>\n",
              "                @keyframes spin {\n",
              "                    from { transform: rotate(0deg); }\n",
              "                    to { transform: rotate(360deg); }\n",
              "                }\n",
              "\n",
              "                .spinner-container {\n",
              "                    display: flex;\n",
              "                    align-items: center;\n",
              "                    margin-bottom: 3px;\n",
              "                }\n",
              "\n",
              "                .spinner {\n",
              "                    border: 3px solid rgba(0, 0, 0, 0.1);\n",
              "                    border-left-color: lightblue;\n",
              "                    border-radius: 50%;\n",
              "                    width: 12px;\n",
              "                    height: 12px;\n",
              "                    animation: spin 1s linear infinite;\n",
              "                }\n",
              "\n",
              "                .spinner-text {\n",
              "                    padding-left: 6px;\n",
              "                }\n",
              "            </style>\n",
              "        "
            ]
          },
          "metadata": {}
        },
        {
          "output_type": "display_data",
          "data": {
            "text/plain": [
              "<IPython.core.display.Javascript object>"
            ],
            "application/javascript": [
              "\n",
              "            const element = document.getElementById(\"c23afc46-efc5-4961-8a20-7be6b18f3591-circle\");\n",
              "            element.style.border = \"3px solid limegreen\";\n",
              "            element.style.animation = \"none\";\n",
              "\n",
              "            const text = document.getElementById(\"c23afc46-efc5-4961-8a20-7be6b18f3591-text\");\n",
              "            text.innerText = \"Updated and upgraded APT\";\n",
              "        "
            ]
          },
          "metadata": {}
        },
        {
          "output_type": "display_data",
          "data": {
            "text/plain": [
              "<IPython.core.display.HTML object>"
            ],
            "text/html": [
              "\n",
              "            <div class=\"spinner-container\">\n",
              "                <div class=\"spinner\" id=\"ea9a343d-d272-4b0d-a74b-34a86c65cbf8-circle\"></div>\n",
              "                <div class=\"spinner-text\" id=\"ea9a343d-d272-4b0d-a74b-34a86c65cbf8-text\">Downloading Google Chrome</div>\n",
              "            </div>\n",
              "            <style>\n",
              "                @keyframes spin {\n",
              "                    from { transform: rotate(0deg); }\n",
              "                    to { transform: rotate(360deg); }\n",
              "                }\n",
              "\n",
              "                .spinner-container {\n",
              "                    display: flex;\n",
              "                    align-items: center;\n",
              "                    margin-bottom: 3px;\n",
              "                }\n",
              "\n",
              "                .spinner {\n",
              "                    border: 3px solid rgba(0, 0, 0, 0.1);\n",
              "                    border-left-color: lightblue;\n",
              "                    border-radius: 50%;\n",
              "                    width: 12px;\n",
              "                    height: 12px;\n",
              "                    animation: spin 1s linear infinite;\n",
              "                }\n",
              "\n",
              "                .spinner-text {\n",
              "                    padding-left: 6px;\n",
              "                }\n",
              "            </style>\n",
              "        "
            ]
          },
          "metadata": {}
        },
        {
          "output_type": "display_data",
          "data": {
            "text/plain": [
              "<IPython.core.display.Javascript object>"
            ],
            "application/javascript": [
              "\n",
              "            const element = document.getElementById(\"ea9a343d-d272-4b0d-a74b-34a86c65cbf8-circle\");\n",
              "            element.style.border = \"3px solid limegreen\";\n",
              "            element.style.animation = \"none\";\n",
              "\n",
              "            const text = document.getElementById(\"ea9a343d-d272-4b0d-a74b-34a86c65cbf8-text\");\n",
              "            text.innerText = \"Downloaded Google Chrome\";\n",
              "        "
            ]
          },
          "metadata": {}
        },
        {
          "output_type": "display_data",
          "data": {
            "text/plain": [
              "<IPython.core.display.HTML object>"
            ],
            "text/html": [
              "\n",
              "            <div class=\"spinner-container\">\n",
              "                <div class=\"spinner\" id=\"2d9384d9-d898-48cf-ba3c-5d2c0cc44c91-circle\"></div>\n",
              "                <div class=\"spinner-text\" id=\"2d9384d9-d898-48cf-ba3c-5d2c0cc44c91-text\">Initializing Chromedriver</div>\n",
              "            </div>\n",
              "            <style>\n",
              "                @keyframes spin {\n",
              "                    from { transform: rotate(0deg); }\n",
              "                    to { transform: rotate(360deg); }\n",
              "                }\n",
              "\n",
              "                .spinner-container {\n",
              "                    display: flex;\n",
              "                    align-items: center;\n",
              "                    margin-bottom: 3px;\n",
              "                }\n",
              "\n",
              "                .spinner {\n",
              "                    border: 3px solid rgba(0, 0, 0, 0.1);\n",
              "                    border-left-color: lightblue;\n",
              "                    border-radius: 50%;\n",
              "                    width: 12px;\n",
              "                    height: 12px;\n",
              "                    animation: spin 1s linear infinite;\n",
              "                }\n",
              "\n",
              "                .spinner-text {\n",
              "                    padding-left: 6px;\n",
              "                }\n",
              "            </style>\n",
              "        "
            ]
          },
          "metadata": {}
        },
        {
          "output_type": "display_data",
          "data": {
            "text/plain": [
              "<IPython.core.display.Javascript object>"
            ],
            "application/javascript": [
              "\n",
              "            const element = document.getElementById(\"2d9384d9-d898-48cf-ba3c-5d2c0cc44c91-circle\");\n",
              "            element.style.border = \"3px solid limegreen\";\n",
              "            element.style.animation = \"none\";\n",
              "\n",
              "            const text = document.getElementById(\"2d9384d9-d898-48cf-ba3c-5d2c0cc44c91-text\");\n",
              "            text.innerText = \"Initialized Chromedriver\";\n",
              "        "
            ]
          },
          "metadata": {}
        }
      ]
    },
    {
      "cell_type": "code",
      "source": [
        "url = \"https://www.baseball-reference.com/teams/ARI/2023.shtml\"\n",
        "\n",
        "driver.get(url)"
      ],
      "metadata": {
        "id": "nO3OdmNLFF6G"
      },
      "execution_count": null,
      "outputs": []
    },
    {
      "cell_type": "code",
      "source": [
        "from selenium.webdriver.common.by import By\n",
        "from selenium.webdriver.support.ui import WebDriverWait\n",
        "from selenium.webdriver.support import expected_conditions as EC\n",
        "\n",
        "# Wait for the third table to load (adjust the timeout as needed)\n",
        "WebDriverWait(driver, 10).until(\n",
        "    EC.presence_of_element_located((By.XPATH, \"(//table)[3]\"))\n",
        ")"
      ],
      "metadata": {
        "colab": {
          "base_uri": "https://localhost:8080/"
        },
        "id": "Kto3gpPhFVXS",
        "outputId": "b795cac3-1275-427d-ceeb-e7eaf05a1c64"
      },
      "execution_count": null,
      "outputs": [
        {
          "output_type": "execute_result",
          "data": {
            "text/plain": [
              "<selenium.webdriver.remote.webelement.WebElement (session=\"d691dfdf5b51f2676cc6976a0d1f3a31\", element=\"f.F00FE73874EDF0B60BC0FA911AAE92F4.d.ADA5482484E21363EC4202A3B8CD079D.e.175\")>"
            ]
          },
          "metadata": {},
          "execution_count": 4
        }
      ]
    },
    {
      "cell_type": "code",
      "source": [
        "from bs4 import BeautifulSoup\n",
        "third_table_html = driver.find_element(By.XPATH, \"(//table)[3]\").get_attribute('outerHTML')\n",
        "soup = BeautifulSoup(third_table_html, 'html.parser')\n",
        "for row in soup.find_all('tr'):\n",
        "    cells = row.find_all(['th', 'td'])\n",
        "    row_data = [cell.text.strip() for cell in cells]\n",
        "    print(row_data)\n"
      ],
      "metadata": {
        "colab": {
          "base_uri": "https://localhost:8080/"
        },
        "id": "Mct9rjSIEAQO",
        "outputId": "9a5b26ab-ad8d-40a1-b507-82acc03d125e"
      },
      "execution_count": null,
      "outputs": [
        {
          "output_type": "stream",
          "name": "stdout",
          "text": [
            "['Rk', 'Pos', 'Name', 'Age', 'W', 'L', 'W-L%', 'ERA', 'G', 'GS', 'GF', 'CG', 'SHO', 'SV', 'IP', 'H', 'R', 'ER', 'HR', 'BB', 'IBB', 'SO', 'HBP', 'BK', 'WP', 'BF', 'ERA+', 'FIP', 'WHIP', 'H9', 'HR9', 'BB9', 'SO9', 'SO/W']\n",
            "['1', 'SP', 'Zac Gallen', '27', '17', '9', '.654', '3.47', '34', '34', '0', '1', '1', '0', '210.0', '188', '87', '81', '22', '47', '0', '220', '5', '1', '8', '846', '125', '3.26', '1.119', '8.1', '0.9', '2.0', '9.4', '4.68']\n",
            "['2', 'SP', 'Merrill Kelly', '34', '12', '8', '.600', '3.29', '30', '30', '0', '0', '0', '0', '177.2', '143', '71', '65', '20', '69', '0', '187', '4', '4', '3', '722', '132', '3.85', '1.193', '7.2', '1.0', '3.5', '9.5', '2.71']\n",
            "['3', 'SP', 'Ryne Nelson', '25', '8', '8', '.500', '5.31', '29', '27', '1', '0', '0', '0', '144.0', '159', '87', '85', '24', '46', '0', '96', '1', '1', '6', '619', '82', '5.07', '1.424', '9.9', '1.5', '2.9', '6.0', '2.09']\n",
            "['4', 'SP', 'Brandon Pfaadt', '24', '3', '9', '.250', '5.72', '19', '18', '1', '0', '0', '0', '96.0', '109', '63', '61', '22', '26', '0', '94', '3', '0', '0', '421', '76', '5.18', '1.406', '10.2', '2.1', '2.4', '8.8', '3.62']\n",
            "['5', 'SP', 'Tommy Henry*', '25', '5', '4', '.556', '4.15', '17', '16', '0', '0', '0', '0', '89.0', '86', '42', '41', '12', '35', '2', '64', '4', '0', '1', '381', '105', '4.88', '1.360', '8.7', '1.2', '3.5', '6.5', '1.83']\n",
            "['6', 'SP', 'Zach Davies', '30', '2', '5', '.286', '7.00', '18', '18', '0', '0', '0', '0', '82.1', '98', '67', '64', '10', '39', '0', '72', '2', '0', '0', '377', '62', '4.58', '1.664', '10.7', '1.1', '4.3', '7.9', '1.85']\n",
            "['Rk', 'Pos', 'Name', 'Age', 'W', 'L', 'W-L%', 'ERA', 'G', 'GS', 'GF', 'CG', 'SHO', 'SV', 'IP', 'H', 'R', 'ER', 'HR', 'BB', 'IBB', 'SO', 'HBP', 'BK', 'WP', 'BF', 'ERA+', 'FIP', 'WHIP', 'H9', 'HR9', 'BB9', 'SO9', 'SO/W']\n",
            "['7', 'CL', 'Paul Sewald', '33', '0', '1', '.000', '3.57', '20', '0', '16', '0', '0', '13', '17.2', '16', '8', '7', '3', '10', '0', '20', '1', '0', '0', '80', '124', '5.07', '1.472', '8.2', '1.5', '5.1', '10.2', '2.00']\n",
            "['8', 'RP', 'Scott McGough', '33', '2', '7', '.222', '4.73', '63', '1', '24', '0', '0', '9', '70.1', '60', '40', '37', '14', '30', '2', '86', '2', '0', '3', '301', '92', '4.76', '1.280', '7.7', '1.8', '3.8', '11.0', '2.87']\n",
            "['9', 'RP', 'Kevin Ginkel', '29', '9', '1', '.900', '2.48', '60', '0', '19', '0', '0', '4', '65.1', '41', '24', '18', '3', '23', '1', '70', '2', '1', '5', '254', '176', '2.86', '0.980', '5.6', '0.4', '3.2', '9.6', '3.04']\n",
            "['10', 'RP', 'Miguel Castro', '28', '6', '6', '.500', '4.31', '75', '0', '21', '0', '0', '7', '64.2', '51', '32', '31', '8', '25', '3', '60', '3', '0', '0', '268', '101', '4.31', '1.175', '7.1', '1.1', '3.5', '8.4', '2.40']\n",
            "['11', 'RP', 'Kyle Nelson*', '26', '7', '4', '.636', '4.18', '68', '2', '8', '0', '0', '0', '56.0', '59', '30', '26', '12', '14', '1', '67', '1', '0', '1', '239', '105', '4.45', '1.304', '9.5', '1.9', '2.3', '10.8', '4.79']\n",
            "['Rk', 'Pos', 'Name', 'Age', 'W', 'L', 'W-L%', 'ERA', 'G', 'GS', 'GF', 'CG', 'SHO', 'SV', 'IP', 'H', 'R', 'ER', 'HR', 'BB', 'IBB', 'SO', 'HBP', 'BK', 'WP', 'BF', 'ERA+', 'FIP', 'WHIP', 'H9', 'HR9', 'BB9', 'SO9', 'SO/W']\n",
            "['12', '', 'Drey Jameson', '25', '3', '1', '.750', '3.32', '15', '3', '3', '0', '0', '1', '40.2', '40', '15', '15', '6', '18', '0', '37', '1', '0', '0', '174', '132', '4.76', '1.426', '8.9', '1.3', '4.0', '8.2', '2.06']\n",
            "['13', '', 'José Ruiz', '28', '2', '1', '.667', '4.43', '34', '1', '13', '0', '0', '0', '40.2', '44', '22', '20', '7', '17', '1', '36', '4', '0', '3', '182', '99', '5.27', '1.500', '9.7', '1.5', '3.8', '8.0', '2.12']\n",
            "['14', '', 'Joe Mantiply*', '32', '2', '2', '.500', '4.62', '35', '3', '9', '0', '0', '0', '39.0', '35', '22', '20', '4', '9', '1', '28', '0', '0', '1', '157', '95', '3.84', '1.128', '8.1', '0.9', '2.1', '6.5', '3.11']\n",
            "['15', '', 'Andrew Chafin*', '33', '2', '3', '.400', '4.19', '43', '0', '14', '0', '0', '8', '34.1', '31', '17', '16', '3', '18', '0', '49', '0', '0', '1', '150', '105', '3.11', '1.427', '8.1', '0.8', '4.7', '12.8', '2.72']\n",
            "['16', '', 'Luis Frías', '25', '1', '0', '1.000', '4.06', '29', '0', '7', '0', '0', '0', '31.0', '30', '14', '14', '3', '17', '0', '26', '2', '0', '1', '139', '108', '4.67', '1.516', '8.7', '0.9', '4.9', '7.5', '1.53']\n",
            "['17', '', 'Slade Cecconi', '24', '0', '1', '.000', '4.33', '7', '4', '0', '0', '0', '0', '27.0', '27', '13', '13', '4', '4', '0', '20', '2', '0', '0', '111', '101', '4.37', '1.148', '9.0', '1.3', '1.3', '6.7', '5.00']\n",
            "['18', '', 'Bryce Jarvis', '25', '2', '1', '.667', '3.04', '11', '1', '2', '0', '0', '0', '23.2', '14', '9', '8', '3', '9', '0', '12', '0', '0', '0', '92', '145', '5.03', '0.972', '5.3', '1.1', '3.4', '4.6', '1.33']\n",
            "['19', '', 'Austin Adams', '32', '0', '1', '.000', '5.71', '24', '0', '1', '0', '0', '0', '17.1', '16', '12', '11', '1', '8', '0', '22', '5', '0', '2', '81', '78', '3.72', '1.385', '8.3', '0.5', '4.2', '11.4', '2.75']\n",
            "['20', '', 'Tyler Gilbert*', '29', '0', '2', '.000', '5.19', '11', '0', '1', '0', '0', '0', '17.1', '21', '10', '10', '2', '5', '0', '19', '0', '0', '1', '72', '85', '3.43', '1.500', '10.9', '1.0', '2.6', '9.9', '3.80']\n",
            "['21', '', 'Madison Bumgarner*', '33', '0', '3', '.000', '10.26', '4', '4', '0', '0', '0', '0', '16.2', '25', '20', '19', '4', '15', '0', '10', '1', '0', '0', '90', '43', '8.06', '2.400', '13.5', '2.2', '8.1', '5.4', '0.67']\n",
            "['22', '', 'Peter Solomon', '26', '0', '0', '', '12.15', '5', '0', '2', '0', '0', '0', '13.1', '17', '18', '18', '2', '11', '0', '6', '1', '0', '1', '67', '37', '7.01', '2.100', '11.5', '1.4', '7.4', '4.1', '0.55']\n",
            "['23', '', 'Ryan Thompson', '31', '0', '0', '', '0.69', '13', '0', '2', '0', '0', '1', '13.0', '6', '1', '1', '1', '1', '0', '9', '1', '0', '0', '45', '644', '3.33', '0.538', '4.2', '0.7', '0.7', '6.2', '9.00']\n",
            "['24', '', 'Andrew Saalfrank*', '25', '0', '0', '', '0.00', '10', '0', '0', '0', '0', '0', '10.1', '7', '2', '0', '0', '4', '1', '6', '0', '0', '0', '41', '', '3.26', '1.065', '6.1', '0.0', '3.5', '5.2', '1.50']\n",
            "['25', '', 'Justin Martinez', '21', '0', '0', '', '12.60', '10', '0', '4', '0', '0', '1', '10.0', '13', '14', '14', '2', '11', '1', '14', '2', '0', '1', '57', '36', '6.96', '2.400', '11.7', '1.8', '9.9', '12.6', '1.27']\n",
            "['26', '', 'Anthony Misiewicz*', '28', '1', '0', '1.000', '5.63', '7', '0', '1', '0', '0', '0', '8.0', '11', '5', '5', '1', '3', '0', '6', '0', '0', '2', '37', '81', '4.51', '1.750', '12.4', '1.1', '3.4', '6.8', '2.00']\n",
            "['27', '', 'Cole Sulser', '33', '0', '0', '', '6.75', '4', '0', '1', '0', '0', '0', '5.1', '5', '4', '4', '2', '3', '0', '4', '0', '0', '0', '23', '69', '8.32', '1.500', '8.4', '3.4', '5.1', '6.8', '1.33']\n",
            "['28', '', 'Carlos Vargas', '23', '0', '0', '', '5.79', '5', '0', '3', '0', '0', '0', '4.2', '5', '3', '3', '2', '4', '0', '7', '1', '0', '0', '22', '81', '9.04', '1.929', '9.6', '3.9', '7.7', '13.5', '1.75']\n",
            "['29', '', 'Nabil Crismatt', '28', '0', '1', '.000', '0.00', '1', '0', '1', '0', '0', '0', '2.0', '2', '1', '0', '0', '0', '0', '3', '0', '1', '0', '8', '', '0.26', '1.000', '9.0', '0.0', '0.0', '13.5', '']\n",
            "['30', '', 'Carson Kelly', '28', '0', '0', '', '9.00', '2', '0', '2', '0', '0', '0', '2.0', '5', '2', '2', '0', '1', '0', '0', '0', '0', '0', '12', '57', '4.76', '3.000', '22.5', '0.0', '4.5', '0.0', '0.00']\n",
            "['31', '', 'José Herrera', '26', '0', '0', '', '9.00', '2', '0', '2', '0', '0', '0', '2.0', '4', '2', '2', '0', '0', '0', '0', '0', '0', '0', '10', '57', '3.26', '2.000', '18.0', '0.0', '0.0', '0.0', '']\n",
            "['32', '', 'Josh Rojas', '29', '0', '0', '', '18.00', '2', '0', '2', '0', '0', '0', '2.0', '6', '4', '4', '0', '1', '0', '1', '0', '0', '0', '13', '28', '3.76', '3.500', '27.0', '0.0', '4.5', '4.5', '1.00']\n",
            "['33', '', 'Peter Strzelecki', '28', '0', '0', '', '0.00', '1', '0', '0', '0', '0', '0', '1.1', '1', '0', '0', '0', '2', '0', '0', '0', '0', '0', '7', '', '7.76', '2.250', '6.8', '0.0', '13.5', '0.0', '0.00']\n",
            "['34', '', 'Seby Zavala', '29', '0', '0', '', '0.00', '1', '0', '1', '0', '0', '0', '0.2', '0', '0', '0', '0', '0', '0', '0', '0', '0', '0', '2', '', '3.26', '0.000', '0.0', '0.0', '0.0', '0.0', '']\n",
            "['', '', 'Team Totals', '28.2', '84', '78', '.519', '4.48', '162', '162', '161', '1', '1', '44', '1435.1', '1375', '761', '714', '197', '525', '13', '1351', '48', '8', '40', '6100', '98', '4.35', '1.324', '8.6', '1.2', '3.3', '8.5', '2.57']\n",
            "['', '', 'Rank in 15 NL teams', '', '5', '10', '', '10', '', '', '', '4', '9', '7', '7', '9', '10', '10', '10', '7', '', '12', '', '', '', '', '', '', '', '', '', '', '', '']\n",
            "['Rk', 'Pos', 'Name', 'Age', 'W', 'L', 'W-L%', 'ERA', 'G', 'GS', 'GF', 'CG', 'SHO', 'SV', 'IP', 'H', 'R', 'ER', 'HR', 'BB', 'IBB', 'SO', 'HBP', 'BK', 'WP', 'BF', 'ERA+', 'FIP', 'WHIP', 'H9', 'HR9', 'BB9', 'SO9', 'SO/W']\n"
          ]
        }
      ]
    },
    {
      "cell_type": "code",
      "source": [
        "driver.quit()"
      ],
      "metadata": {
        "id": "qeGb0QqwF8lO"
      },
      "execution_count": null,
      "outputs": []
    }
  ]
}