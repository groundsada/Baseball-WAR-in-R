{
  "nbformat": 4,
  "nbformat_minor": 0,
  "metadata": {
    "colab": {
      "provenance": []
    },
    "kernelspec": {
      "name": "ir",
      "display_name": "R"
    },
    "language_info": {
      "name": "R"
    }
  },
  "cells": [
    {
      "cell_type": "code",
      "source": [
        "install.packages(\"reticulate\")"
      ],
      "metadata": {
        "colab": {
          "base_uri": "https://localhost:8080/"
        },
        "id": "ktXVCXOVICZw",
        "outputId": "92405065-b7c9-44cd-a237-e2125fd55fef"
      },
      "execution_count": null,
      "outputs": [
        {
          "output_type": "stream",
          "name": "stderr",
          "text": [
            "Installing package into ‘/usr/local/lib/R/site-library’\n",
            "(as ‘lib’ is unspecified)\n",
            "\n",
            "also installing the dependencies ‘Rcpp’, ‘RcppTOML’, ‘here’, ‘png’\n",
            "\n",
            "\n"
          ]
        }
      ]
    },
    {
      "cell_type": "code",
      "source": [
        "system(\"pip install google-colab-selenium\")"
      ],
      "metadata": {
        "id": "zDcuTLHBI5mt"
      },
      "execution_count": null,
      "outputs": []
    },
    {
      "cell_type": "code",
      "source": [
        "library(reticulate)\n",
        "py_run_string(\"\n",
        "import google_colab_selenium as gs\n",
        "\n",
        "driver = gs.Chrome()\n",
        "\n",
        "url = 'https://www.baseball-reference.com/teams/ARI/2023.shtml'\n",
        "\n",
        "driver.get(url)\n",
        "\n",
        "from selenium.webdriver.common.by import By\n",
        "from selenium.webdriver.support.ui import WebDriverWait\n",
        "from selenium.webdriver.support import expected_conditions as EC\n",
        "\n",
        "WebDriverWait(driver, 10).until(\n",
        "    EC.presence_of_element_located((By.XPATH, '(//table)[3]'))\n",
        ")\n",
        "\n",
        "from bs4 import BeautifulSoup\n",
        "third_table_html = driver.find_element(By.XPATH, '(//table)[3]').get_attribute('outerHTML')\n",
        "soup = BeautifulSoup(third_table_html, 'html.parser')\n",
        "data = []\n",
        "for row in soup.find_all('tr'):\n",
        "    cells = row.find_all(['th', 'td'])\n",
        "    row_data = [cell.text.strip() for cell in cells]\n",
        "    data.append(row_data)\n",
        "\n",
        "driver.quit()\n",
        "\")\n"
      ],
      "metadata": {
        "id": "1-iUw7LiICeB"
      },
      "execution_count": null,
      "outputs": []
    },
    {
      "cell_type": "code",
      "source": [],
      "metadata": {
        "id": "Vf4M817tLUXx"
      },
      "execution_count": null,
      "outputs": []
    },
    {
      "cell_type": "code",
      "source": [],
      "metadata": {
        "id": "lq9DLqUFLUrR"
      },
      "execution_count": null,
      "outputs": []
    },
    {
      "cell_type": "code",
      "source": [
        "library(dplyr)\n",
        "dataset <- py$data %>% as.data.frame()\n",
        "save(dataset, file = \"baseball_dataset.RData\")\n"
      ],
      "metadata": {
        "id": "GJTt46WBIJrx",
        "colab": {
          "base_uri": "https://localhost:8080/",
          "height": 73
        },
        "outputId": "cd2909c4-3aec-4ec0-d437-f959940caf04"
      },
      "execution_count": null,
      "outputs": [
        {
          "output_type": "error",
          "ename": "ERROR",
          "evalue": "Error in py$data %>% as.data.frame(): could not find function \"%>%\"\n",
          "traceback": [
            "Error in py$data %>% as.data.frame(): could not find function \"%>%\"\nTraceback:\n"
          ]
        }
      ]
    }
  ]
}